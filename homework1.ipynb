{
 "cells": [
  {
   "cell_type": "markdown",
   "metadata": {
    "id": "MZjBN_HdrL3w"
   },
   "source": [
    "##**Use sympy to solve the following questions**\n",
    "**1. Solve the quadratic function $x^2+2x-8=0$**"
   ]
  },
  {
   "cell_type": "code",
   "execution_count": 363,
   "metadata": {
    "id": "deEemH-qrnCG"
   },
   "outputs": [
    {
     "data": {
      "image/png": "[encoded data removed]",
      "text/latex": [
       "$\\displaystyle \\left[ -4, \\  2\\right]$"
      ],
      "text/plain": [
       "[-4, 2]"
      ]
     },
     "execution_count": 363,
     "metadata": {},
     "output_type": "execute_result"
    }
   ],
   "source": [
    "import sympy as sp\n",
    "sp.init_printing()\n",
    "x = sp.Symbol(\"x\")\n",
    "sp.solve((x**2)+2*x-8, x)"
   ]
  },
  {
   "cell_type": "markdown",
   "metadata": {
    "id": "osWHgKk5t9MA"
   },
   "source": [
    "**2. What is the function f(x) which is equal to its\n",
    "derivative?**"
   ]
  },
  {
   "cell_type": "code",
   "execution_count": 364,
   "metadata": {
    "id": "MR8ijByJroeV"
   },
   "outputs": [
    {
     "data": {
      "image/png": "[encoded data removed]",
      "text/latex": [
       "$\\displaystyle e^{x}$"
      ],
      "text/plain": [
       " x\n",
       "ℯ "
      ]
     },
     "execution_count": 364,
     "metadata": {},
     "output_type": "execute_result"
    }
   ],
   "source": [
    "import sympy as sp\n",
    "sp.init_printing()\n",
    "x = sp.Symbol(\"x\")\n",
    "#Declare function a as the constant e to the x\n",
    "a = E**x\n",
    "#Show 'a'\n",
    "a"
   ]
  },
  {
   "cell_type": "code",
   "execution_count": 365,
   "metadata": {},
   "outputs": [
    {
     "data": {
      "image/png": "[encoded data removed]",
      "text/latex": [
       "$\\displaystyle e^{x}$"
      ],
      "text/plain": [
       " x\n",
       "ℯ "
      ]
     },
     "execution_count": 365,
     "metadata": {},
     "output_type": "execute_result"
    }
   ],
   "source": [
    "#Show derivative of 'a'\n",
    "sp.diff(a)"
   ]
  },
  {
   "cell_type": "markdown",
   "metadata": {
    "id": "P2b7XyAD5qf1"
   },
   "source": [
    "**3. Compute the area under $f(x)=x^3$ from x=0 to x=1**"
   ]
  },
  {
   "cell_type": "code",
   "execution_count": 366,
   "metadata": {
    "id": "W1MNf_ptrqOK"
   },
   "outputs": [
    {
     "data": {
      "image/png": "[encoded data removed]",
      "text/latex": [
       "$\\displaystyle \\int\\limits_{0}^{1} x^{3}\\, dx$"
      ],
      "text/plain": [
       "1      \n",
       "⌠      \n",
       "⎮  3   \n",
       "⎮ x  dx\n",
       "⌡      \n",
       "0      "
      ]
     },
     "execution_count": 366,
     "metadata": {},
     "output_type": "execute_result"
    }
   ],
   "source": [
    "import sympy as sp\n",
    "sp.init_printing()\n",
    "x = sp.Symbol(\"x\")\n",
    "#Declare function b as the constant x cubed\n",
    "b = x**3\n",
    "#Display the integral and \n",
    "sp.Integral(b, (x, 0, 1))"
   ]
  },
  {
   "cell_type": "code",
   "execution_count": 367,
   "metadata": {},
   "outputs": [
    {
     "data": {
      "image/png": "[encoded data removed]",
      "text/latex": [
       "$\\displaystyle \\frac{1}{4}$"
      ],
      "text/plain": [
       "1/4"
      ]
     },
     "execution_count": 367,
     "metadata": {},
     "output_type": "execute_result"
    }
   ],
   "source": [
    "#Calculate the area from lower bound of 0 to upper bound of 1\n",
    "sp.integrate(b, (x, 0, 1))"
   ]
  },
  {
   "cell_type": "markdown",
   "metadata": {
    "id": "X0WDytOW_0Ds"
   },
   "source": [
    "**4. Calculate $\\displaystyle\\sum\\limits_{x=0}^\\infty \\left(\\frac{1}{x!}\\right)$**"
   ]
  },
  {
   "cell_type": "code",
   "execution_count": 368,
   "metadata": {
    "id": "9j3BL9Tbrrhw"
   },
   "outputs": [
    {
     "data": {
      "image/png": "[encoded data removed]",
      "text/latex": [
       "$\\displaystyle \\sum_{x=0}^{\\infty} \\frac{1}{x!}$"
      ],
      "text/plain": [
       "  ∞     \n",
       " ____   \n",
       " ╲      \n",
       "  ╲     \n",
       "   ╲  1 \n",
       "   ╱  ──\n",
       "  ╱   x!\n",
       " ╱      \n",
       " ‾‾‾‾   \n",
       "x = 0   "
      ]
     },
     "execution_count": 368,
     "metadata": {},
     "output_type": "execute_result"
    }
   ],
   "source": [
    "import sympy as sp\n",
    "sp.init_printing()\n",
    "x = sp.Symbol(\"x\")\n",
    "#Declare function c as 1 over x factorial\n",
    "c = 1/ sp.factorial(x)\n",
    "#Display the factorial identity for Euler's number\n",
    "sp.Sum(c, (x, 0, oo))"
   ]
  },
  {
   "cell_type": "code",
   "execution_count": 369,
   "metadata": {},
   "outputs": [
    {
     "data": {
      "image/png": "[encoded data removed]",
      "text/latex": [
       "$\\displaystyle e$"
      ],
      "text/plain": [
       "ℯ"
      ]
     },
     "execution_count": 369,
     "metadata": {},
     "output_type": "execute_result"
    }
   ],
   "source": [
    "#Perfom the calculation\n",
    "sp.summation(c, (x, 0, oo))"
   ]
  },
  {
   "cell_type": "markdown",
   "metadata": {
    "id": "GX1ZPTnTCtrV"
   },
   "source": [
    "**5. Calculate $\\lim_{n \\rightarrow \\infty}(1+\\frac{1}{n})^n$**"
   ]
  },
  {
   "cell_type": "code",
   "execution_count": 370,
   "metadata": {
    "id": "9RuIX--BrwG_"
   },
   "outputs": [
    {
     "data": {
      "image/png": "[encoded data removed]",
      "text/latex": [
       "$\\displaystyle \\lim_{n \\to \\infty} \\left(1 + \\frac{1}{n}\\right)^{n}$"
      ],
      "text/plain": [
       "           n\n",
       "    ⎛    1⎞ \n",
       "lim ⎜1 + ─⎟ \n",
       "n─→∞⎝    n⎠ "
      ]
     },
     "execution_count": 370,
     "metadata": {},
     "output_type": "execute_result"
    }
   ],
   "source": [
    "import sympy as sp\n",
    "sp.init_printing()\n",
    "n = sp.Symbol(\"n\")\n",
    "#Declare function d as 1 plus 1 over n all to the nth power\n",
    "d = ((1 + (1/n))**n)\n",
    "#Show the limit definition of Euler's number\n",
    "sp.Limit(d, n, oo)"
   ]
  },
  {
   "cell_type": "code",
   "execution_count": 371,
   "metadata": {},
   "outputs": [
    {
     "data": {
      "image/png": "[encoded data removed]",
      "text/latex": [
       "$\\displaystyle e$"
      ],
      "text/plain": [
       "ℯ"
      ]
     },
     "execution_count": 371,
     "metadata": {},
     "output_type": "execute_result"
    }
   ],
   "source": [
    "#Calculate the limit\n",
    "sp.limit(d, n, oo)"
   ]
  },
  {
   "cell_type": "markdown",
   "metadata": {
    "id": "PJ_WIHAZE9P2"
   },
   "source": [
    "**6. flips the matrix through its diagonal $\\begin{bmatrix}2&-3&-8&7 \\\\-2&-1&2&-7\\\\ 1&0&-3&6 \\end{bmatrix}$**"
   ]
  },
  {
   "cell_type": "code",
   "execution_count": 372,
   "metadata": {
    "id": "DjIgeasrrw1d"
   },
   "outputs": [
    {
     "data": {
      "text/latex": [
       "$\\displaystyle \\left[\\begin{matrix}2 & -3 & -8 & 7\\\\-2 & -1 & 2 & -7\\\\1 & 0 & -3 & 6\\end{matrix}\\right]$"
      ],
      "text/plain": [
       "⎡2   -3  -8  7 ⎤\n",
       "⎢              ⎥\n",
       "⎢-2  -1  2   -7⎥\n",
       "⎢              ⎥\n",
       "⎣1   0   -3  6 ⎦"
      ]
     },
     "execution_count": 372,
     "metadata": {},
     "output_type": "execute_result"
    }
   ],
   "source": [
    "import sympy as sp\n",
    "sp.init_printing()\n",
    "#Declare the given matrix\n",
    "A = Matrix(3, 4, [2, -3, -8, 7, -2, -1, 2, -7, 1, 0, -3, 6])\n",
    "#Display the given matrix\n",
    "A"
   ]
  },
  {
   "cell_type": "code",
   "execution_count": 373,
   "metadata": {},
   "outputs": [
    {
     "data": {
      "text/latex": [
       "$\\displaystyle \\left[\\begin{matrix}2 & -2 & 1\\\\-3 & -1 & 0\\\\-8 & 2 & -3\\\\7 & -7 & 6\\end{matrix}\\right]$"
      ],
      "text/plain": [
       "⎡2   -2  1 ⎤\n",
       "⎢          ⎥\n",
       "⎢-3  -1  0 ⎥\n",
       "⎢          ⎥\n",
       "⎢-8  2   -3⎥\n",
       "⎢          ⎥\n",
       "⎣7   -7  6 ⎦"
      ]
     },
     "execution_count": 373,
     "metadata": {},
     "output_type": "execute_result"
    }
   ],
   "source": [
    "#Flip the given matrix\n",
    "A.T"
   ]
  },
  {
   "cell_type": "markdown",
   "metadata": {
    "id": "rLTC_3INOPdj"
   },
   "source": [
    "**7. Row operations: We know the following matrix**"
   ]
  },
  {
   "cell_type": "code",
   "execution_count": 374,
   "metadata": {
    "colab": {
     "base_uri": "https://localhost:8080/",
     "height": 78
    },
    "id": "iWzjfQn0Ox_a",
    "outputId": "9a591e92-6369-4a7a-ddde-f4b3748e88b2"
   },
   "outputs": [
    {
     "data": {
      "text/latex": [
       "$\\displaystyle \\left[\\begin{matrix}1 & 0 & 0\\\\0 & 1 & 0\\\\0 & 0 & 1\\end{matrix}\\right]$"
      ],
      "text/plain": [
       "⎡1  0  0⎤\n",
       "⎢       ⎥\n",
       "⎢0  1  0⎥\n",
       "⎢       ⎥\n",
       "⎣0  0  1⎦"
      ]
     },
     "execution_count": 374,
     "metadata": {},
     "output_type": "execute_result"
    }
   ],
   "source": [
    " M = eye(3)\n",
    " M"
   ]
  },
  {
   "cell_type": "markdown",
   "metadata": {
    "id": "v8pI_LiDjkBj"
   },
   "source": [
    "**Do matrix row operations to R2 ← R2 + 3R1. (update Row 2 to R2+3*R1). Print the matrix**"
   ]
  },
  {
   "cell_type": "code",
   "execution_count": 375,
   "metadata": {},
   "outputs": [
    {
     "data": {
      "text/latex": [
       "$\\displaystyle \\left[\\begin{matrix}1 & 0 & 0\\\\3 & 1 & 0\\\\0 & 0 & 1\\end{matrix}\\right]$"
      ],
      "text/plain": [
       "⎡1  0  0⎤\n",
       "⎢       ⎥\n",
       "⎢3  1  0⎥\n",
       "⎢       ⎥\n",
       "⎣0  0  1⎦"
      ]
     },
     "execution_count": 375,
     "metadata": {},
     "output_type": "execute_result"
    }
   ],
   "source": [
    "t = M.row(0)*3 + M.row(1)\n",
    "M.row_del(1)\n",
    "M = M.row_insert(1,t)\n",
    "M"
   ]
  },
  {
   "cell_type": "markdown",
   "metadata": {
    "id": "lStKMbpWkZky"
   },
   "source": [
    "**8.Find determinant of M**"
   ]
  },
  {
   "cell_type": "code",
   "execution_count": 376,
   "metadata": {
    "id": "klYDCja9r1N3"
   },
   "outputs": [
    {
     "data": {
      "image/png": "[encoded data removed]",
      "text/latex": [
       "$\\displaystyle 1$"
      ],
      "text/plain": [
       "1"
      ]
     },
     "execution_count": 376,
     "metadata": {},
     "output_type": "execute_result"
    }
   ],
   "source": [
    "M.det()"
   ]
  },
  {
   "cell_type": "markdown",
   "metadata": {
    "id": "qaXra9fNlSDu"
   },
   "source": [
    "**9.Find the following matrix's eigenvalue and eigen vector**"
   ]
  },
  {
   "cell_type": "code",
   "execution_count": 377,
   "metadata": {
    "id": "W8cpvW7lljCv"
   },
   "outputs": [
    {
     "data": {
      "text/latex": [
       "$\\displaystyle \\left( \\left\\{ 5 : 1, \\  10 : 1\\right\\}, \\  \\left[ \\left( 5, \\  1, \\  \\left[ \\left[\\begin{matrix}\\frac{1}{2}\\\\1\\end{matrix}\\right]\\right]\\right), \\  \\left( 10, \\  1, \\  \\left[ \\left[\\begin{matrix}-2\\\\1\\end{matrix}\\right]\\right]\\right)\\right]\\right)$"
      ],
      "text/plain": [
       "⎛               ⎡⎛      ⎡⎡1/2⎤⎤⎞  ⎛       ⎡⎡-2⎤⎤⎞⎤⎞\n",
       "⎜{5: 1, 10: 1}, ⎢⎜5, 1, ⎢⎢   ⎥⎥⎟, ⎜10, 1, ⎢⎢  ⎥⎥⎟⎥⎟\n",
       "⎝               ⎣⎝      ⎣⎣ 1 ⎦⎦⎠  ⎝       ⎣⎣1 ⎦⎦⎠⎦⎠"
      ]
     },
     "execution_count": 377,
     "metadata": {},
     "output_type": "execute_result"
    }
   ],
   "source": [
    "M = Matrix( [[ 9, -2], [-2, 6]] )\n",
    "M.eigenvals(), M.eigenvects()"
   ]
  },
  {
   "cell_type": "markdown",
   "metadata": {
    "id": "T0NeZ4Hwo1Uy"
   },
   "source": [
    "**10. Implement the Predator-prey model in python**\n",
    "\n",
    "Suppose fish starts at 10 hundreds, bears starts at 1 hundred\n",
    "\n",
    "alpha = 1.1\n",
    "\n",
    "beta = 0.4\n",
    "\n",
    "delta = 0.1\n",
    "\n",
    "gamma = 0.4\n",
    "\n",
    "draw the plots(bear-time, fish-time)\n",
    "\n",
    "t = np.linspace(0,50,num=1000)\n"
   ]
  },
  {
   "cell_type": "code",
   "execution_count": 378,
   "metadata": {},
   "outputs": [
    {
     "data": {
      "text/plain": [
       "Text(0.5, 1.0, 'Predator Prey Model')"
      ]
     },
     "execution_count": 378,
     "metadata": {},
     "output_type": "execute_result"
    },
    {
     "data": {
      "image/png": "[encoded data removed]",
      "text/plain": [
       "<Figure size 432x288 with 1 Axes>"
      ]
     },
     "metadata": {
      "needs_background": "light"
     },
     "output_type": "display_data"
    }
   ],
   "source": [
    "import numpy\n",
    "import matplotlib.pyplot as plt\n",
    "%matplotlib inline\n",
    "#Set the above given parameters\n",
    "alpha = 1.1\n",
    "beta = 0.4\n",
    "delta = 0.1\n",
    "gamma = 0.4\n",
    "#Using Euler forward for time-stepping\n",
    "def euler_step(u, f, dt):\n",
    "    \n",
    "    return u + dt * f(u)\n",
    "\n",
    "#The Lotka-Volterra equations defined as a function\n",
    "def f(u):\n",
    "\n",
    "    x = u[0]\n",
    "    y = u[1]\n",
    "    return numpy.array([x*(alpha - beta*y), -y*(gamma - delta*x)])\n",
    "\n",
    "#Time-increments in discrete steps\n",
    "T  = 15.0                           #end\n",
    "dt = 0.01                           #time-increment\n",
    "N  = int(T/dt) + 1                  #number of time-steps\n",
    "x0 = 1000.\n",
    "y0 = 100.\n",
    "t0 = 0.\n",
    "\n",
    "#Starting conditions\n",
    "u_euler = numpy.empty((N, 2))\n",
    "\n",
    "# initialize the array containing the solution for each time-step\n",
    "u_euler[0] = numpy.array([x0, y0])\n",
    "\n",
    "# use a for loop to call the function rk2_step()\n",
    "for n in range(N-1):\n",
    "    \n",
    "    u_euler[n+1] = euler_step(u_euler[n], f, dt)\n",
    "    \n",
    "time = numpy.linspace(0.0, T,N)\n",
    "x_euler = u_euler[:,0]\n",
    "y_euler = u_euler[:,1]\n",
    "\n",
    "\n",
    "#Plotting the population relationship over time\n",
    "plt.plot(time, x_euler, label = 'Fish ')\n",
    "plt.plot(time, y_euler, label = 'Bears')\n",
    "plt.legend(loc='upper right')\n",
    "#labels\n",
    "plt.xlabel(\"Time\")\n",
    "plt.ylabel(\"Number of Each Species\")\n",
    "#title\n",
    "plt.title(\"Predator Prey Model\")\n",
    "\n",
    "#With the given constats, the bear population grows rapidly in the very beginning and destroys the fish population\n",
    "#and once the fish population is gone, the bears die off\n",
    "#The bears growth rate 'gamma' is too high, while their death rate 'delta'is too low\n",
    "#The fish population can't recover\n"
   ]
  },
  {
   "cell_type": "code",
   "execution_count": null,
   "metadata": {},
   "outputs": [],
   "source": []
  }
 ],
 "metadata": {
  "colab": {
   "collapsed_sections": [],
   "name": "homework1.ipynb",
   "provenance": []
  },
  "kernelspec": {
   "display_name": "Python 3 (ipykernel)",
   "language": "python",
   "name": "python3"
  },
  "language_info": {
   "codemirror_mode": {
    "name": "ipython",
    "version": 3
   },
   "file_extension": ".py",
   "mimetype": "text/x-python",
   "name": "python",
   "nbconvert_exporter": "python",
   "pygments_lexer": "ipython3",
   "version": "3.9.7"
  }
 },
 "nbformat": 4,
 "nbformat_minor": 1
}
